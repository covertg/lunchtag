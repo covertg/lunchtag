{
 "cells": [
  {
   "cell_type": "markdown",
   "metadata": {},
   "source": [
    "# Lunch Tag Demo"
   ]
  },
  {
   "cell_type": "markdown",
   "metadata": {},
   "source": [
    "## Requirements\n",
    "\n",
    "* All you need is `pandas`! And `ipykernel` to run this notebook."
   ]
  },
  {
   "cell_type": "code",
   "execution_count": 1,
   "metadata": {},
   "outputs": [],
   "source": [
    "import lunchtag.assignment\n",
    "import lunchtag.io"
   ]
  },
  {
   "cell_type": "markdown",
   "metadata": {},
   "source": [
    "## Tag 1: simple shuffle to create pairs, allowing overflow, no need to stratify."
   ]
  },
  {
   "cell_type": "code",
   "execution_count": 2,
   "metadata": {},
   "outputs": [
    {
     "name": "stdout",
     "output_type": "stream",
     "text": [
      "Considering 11 signups for this draw:\n",
      "               ID\n",
      "0   a@example.com\n",
      "1   b@example.com\n",
      "2   c@example.com\n",
      "3   d@example.com\n",
      "4   e@example.com\n",
      "5   f@example.com\n",
      "6   g@example.com\n",
      "7   h@example.com\n",
      "8   i@example.com\n",
      "9   j@example.com\n",
      "10  k@example.com\n",
      "Made assignments in 1 try.\n",
      "[{'c@example.com', 'e@example.com', 'd@example.com'}, {'h@example.com', 'f@example.com'}, {'g@example.com', 'k@example.com'}, {'a@example.com', 'b@example.com'}, {'i@example.com', 'j@example.com'}]\n",
      "Wrote 11 participants to 5 groups.\n"
     ]
    }
   ],
   "source": [
    "prev_assignments = []\n",
    "signups1 = lunchtag.io.read_signups('data-demo/signups/tag1.csv', 'Email Address')\n",
    "\n",
    "assignment1 = lunchtag.assignment.assign_rejection_sampling(\n",
    "    signups1, prev_assignments, group_size=2, allow_overflow=True)\n",
    "print(assignment1)\n",
    "\n",
    "lunchtag.io.save_assignment(assignment1, 'data-demo/assignments/assignment1.csv')"
   ]
  },
  {
   "cell_type": "markdown",
   "metadata": {},
   "source": [
    "## Tag 2: change the group size to 3 (trios instead of pairs), and disallow overflow."
   ]
  },
  {
   "cell_type": "code",
   "execution_count": 3,
   "metadata": {},
   "outputs": [
    {
     "name": "stdout",
     "output_type": "stream",
     "text": [
      "Read 5 assignments of 11 unique participants from 1 file(s): ['data-demo/assignments/assignment1.csv']\n",
      "Considering 8 signups for this draw:\n",
      "              ID\n",
      "0  i@example.com\n",
      "1  b@example.com\n",
      "2  d@example.com\n",
      "3  e@example.com\n",
      "4  c@example.com\n",
      "5  k@example.com\n",
      "6  h@example.com\n",
      "7  l@example.com\n",
      "Made assignments in 1 try.\n",
      "2 leftover participants were not assigned to a group: ['e@example.com', 'k@example.com']\n",
      "[{'c@example.com', 'i@example.com', 'l@example.com'}, {'h@example.com', 'b@example.com', 'd@example.com'}]\n",
      "Wrote 6 participants to 2 groups.\n"
     ]
    }
   ],
   "source": [
    "prev_assignments = lunchtag.io.read_assignments('data-demo/assignments/*[1].csv')\n",
    "signups2 = lunchtag.io.read_signups('data-demo/signups/tag2.csv', 'Email Address')\n",
    "\n",
    "assignment2 = lunchtag.assignment.assign_rejection_sampling(\n",
    "    signups2, prev_assignments, group_size=3, allow_overflow=False)\n",
    "print(assignment2)\n",
    "\n",
    "lunchtag.io.save_assignment(assignment2, 'data-demo/assignments/assignment2.csv')"
   ]
  },
  {
   "cell_type": "markdown",
   "metadata": {},
   "source": [
    "## Tags 3-5: more of the same"
   ]
  },
  {
   "cell_type": "code",
   "execution_count": 4,
   "metadata": {},
   "outputs": [
    {
     "name": "stdout",
     "output_type": "stream",
     "text": [
      "Read 7 assignments of 12 unique participants from 2 file(s): ['data-demo/assignments/assignment1.csv', 'data-demo/assignments/assignment2.csv']\n",
      "Considering 14 signups for this draw:\n",
      "               ID\n",
      "0   i@example.com\n",
      "1   b@example.com\n",
      "2   g@example.com\n",
      "3   a@example.com\n",
      "4   m@example.com\n",
      "5   d@example.com\n",
      "6   e@example.com\n",
      "7   n@example.com\n",
      "8   c@example.com\n",
      "9   o@example.com\n",
      "10  p@example.com\n",
      "11  l@example.com\n",
      "12  h@example.com\n",
      "13  k@example.com\n",
      "Made assignments in 2 tries.\n",
      "[{'d@example.com', 'n@example.com'}, {'k@example.com', 'h@example.com'}, {'g@example.com', 'e@example.com'}, {'b@example.com', 'i@example.com'}, {'o@example.com', 'p@example.com'}, {'m@example.com', 'c@example.com'}, {'a@example.com', 'l@example.com'}]\n",
      "Wrote 14 participants to 7 groups.\n"
     ]
    }
   ],
   "source": [
    "prev_assignments = lunchtag.io.read_assignments('data-demo/assignments/*[1-2].csv')\n",
    "signups3 = lunchtag.io.read_signups('data-demo/signups/tag3.csv', 'Email Address')\n",
    "\n",
    "assignment3 = lunchtag.assignment.assign_rejection_sampling(\n",
    "    signups3, prev_assignments, group_size=2, allow_overflow=True)\n",
    "print(assignment3)\n",
    "\n",
    "lunchtag.io.save_assignment(assignment3, 'data-demo/assignments/assignment3.csv')"
   ]
  },
  {
   "cell_type": "code",
   "execution_count": 5,
   "metadata": {},
   "outputs": [
    {
     "name": "stdout",
     "output_type": "stream",
     "text": [
      "Read 14 assignments of 16 unique participants from 3 file(s): ['data-demo/assignments/assignment3.csv', 'data-demo/assignments/assignment1.csv', 'data-demo/assignments/assignment2.csv']\n",
      "Considering 15 signups for this draw:\n",
      "               ID\n",
      "0   n@example.com\n",
      "1   p@example.com\n",
      "2   i@example.com\n",
      "3   g@example.com\n",
      "4   o@example.com\n",
      "5   b@example.com\n",
      "6   q@example.com\n",
      "7   r@example.com\n",
      "8   s@example.com\n",
      "9   k@example.com\n",
      "10  t@example.com\n",
      "11  h@example.com\n",
      "12  u@example.com\n",
      "13  e@example.com\n",
      "14  v@example.com\n",
      "Made assignments in 2 tries.\n",
      "[{'d@example.com', 'n@example.com'}, {'k@example.com', 'h@example.com'}, {'g@example.com', 'e@example.com'}, {'b@example.com', 'i@example.com'}, {'o@example.com', 'p@example.com'}, {'m@example.com', 'c@example.com'}, {'a@example.com', 'l@example.com'}]\n",
      "Wrote 15 participants to 7 groups.\n"
     ]
    }
   ],
   "source": [
    "prev_assignments = lunchtag.io.read_assignments('data-demo/assignments/*[1-3].csv')\n",
    "signups4 = lunchtag.io.read_signups('data-demo/signups/tag4.csv', 'Email Address')\n",
    "\n",
    "assignment4 = lunchtag.assignment.assign_rejection_sampling(\n",
    "    signups4, prev_assignments, group_size=2, allow_overflow=True)\n",
    "print(assignment3)\n",
    "\n",
    "lunchtag.io.save_assignment(assignment4, 'data-demo/assignments/assignment4.csv')"
   ]
  },
  {
   "cell_type": "code",
   "execution_count": 6,
   "metadata": {},
   "outputs": [
    {
     "name": "stdout",
     "output_type": "stream",
     "text": [
      "Read 21 assignments of 22 unique participants from 4 file(s): ['data-demo/assignments/assignment3.csv', 'data-demo/assignments/assignment1.csv', 'data-demo/assignments/assignment2.csv', 'data-demo/assignments/assignment4.csv']\n",
      "Considering 17 signups for this draw:\n",
      "                ID Group\n",
      "0    b@example.com     1\n",
      "1    k@example.com     1\n",
      "2    d@example.com     1\n",
      "3    s@example.com     1\n",
      "4    e@example.com     1\n",
      "5    u@example.com     1\n",
      "6    x@example.com     1\n",
      "7    h@example.com     2\n",
      "8    a@example.com     2\n",
      "9    t@example.com     2\n",
      "10   l@example.com     2\n",
      "11   w@example.com     2\n",
      "12   i@example.com     2\n",
      "13   y@example.com     2\n",
      "14   z@example.com     2\n",
      "15  aa@example.com     2\n",
      "16  bb@example.com     2\n",
      "Made assignments in 3 tries.\n",
      "[{'i@example.com', 'k@example.com', 't@example.com'}, {'a@example.com', 'w@example.com'}, {'h@example.com', 'bb@example.com'}, {'s@example.com', 'aa@example.com'}, {'y@example.com', 'e@example.com'}, {'l@example.com', 'u@example.com'}, {'x@example.com', 'd@example.com'}, {'z@example.com', 'b@example.com'}]\n",
      "Wrote 17 participants to 8 groups.\n"
     ]
    }
   ],
   "source": [
    "prev_assignments = lunchtag.io.read_assignments('data-demo/assignments/*[1-4].csv')\n",
    "signups5 = lunchtag.io.read_signups('data-demo/signups/tag5.csv', 'Email Address', 'Group')\n",
    "\n",
    "assignment5 = lunchtag.assignment.assign_rejection_sampling(\n",
    "    signups5, prev_assignments, group_size=2, allow_overflow=True)\n",
    "print(assignment5)\n",
    "\n",
    "lunchtag.io.save_assignment(assignment5, 'data-demo/assignments/assignment5.csv')"
   ]
  },
  {
   "cell_type": "markdown",
   "metadata": {},
   "source": [
    "## Tag 5 redux: time to \"stratify.\"\n",
    "\n",
    "Notice that the `tag5.csv` has an extra column providing for a `Group` attribute. Let's make stratified lunch tag pairs such that every group has one participant from group \"1\" and one participant from group \"2\". Further, allow overflow for group 1 but not for group 2."
   ]
  },
  {
   "cell_type": "code",
   "execution_count": 7,
   "metadata": {},
   "outputs": [
    {
     "name": "stdout",
     "output_type": "stream",
     "text": [
      "Read 21 assignments of 22 unique participants from 4 file(s): ['data-demo/assignments/assignment3.csv', 'data-demo/assignments/assignment1.csv', 'data-demo/assignments/assignment2.csv', 'data-demo/assignments/assignment4.csv']\n",
      "Considering 17 signups for this draw:\n",
      "                ID Group\n",
      "0    b@example.com     1\n",
      "1    k@example.com     1\n",
      "2    d@example.com     1\n",
      "3    s@example.com     1\n",
      "4    e@example.com     1\n",
      "5    u@example.com     1\n",
      "6    x@example.com     1\n",
      "7    h@example.com     2\n",
      "8    a@example.com     2\n",
      "9    t@example.com     2\n",
      "10   l@example.com     2\n",
      "11   w@example.com     2\n",
      "12   i@example.com     2\n",
      "13   y@example.com     2\n",
      "14   z@example.com     2\n",
      "15  aa@example.com     2\n",
      "16  bb@example.com     2\n",
      "Made assignments in 2 tries.\n",
      "7 leftover participants were not assigned to a group: ['a@example.com', 'y@example.com', 'i@example.com', 't@example.com', 'w@example.com', 'h@example.com', 'bb@example.com']\n",
      "[{'x@example.com', 'aa@example.com', 'e@example.com', 'k@example.com'}, {'s@example.com', 'b@example.com', 'z@example.com'}, {'d@example.com', 'l@example.com', 'u@example.com'}]\n",
      "Wrote 10 participants to 3 groups.\n"
     ]
    }
   ],
   "source": [
    "prev_assignments = lunchtag.io.read_assignments('data-demo/assignments/*[1-4].csv')\n",
    "signups5 = lunchtag.io.read_signups('data-demo/signups/tag5.csv', 'Email Address', 'Group')\n",
    "\n",
    "assignment5 = lunchtag.assignment.assign_rejection_sampling(\n",
    "    signups5, prev_assignments, group_size=2, stratify_by='Group', allow_overflow={'1': True, '2': False})\n",
    "print(assignment5)\n",
    "\n",
    "lunchtag.io.save_assignment(assignment5, 'data-demo/assignments/assignment5-stratified.csv')"
   ]
  }
 ],
 "metadata": {
  "interpreter": {
   "hash": "8b59746f8268d471e5cc374c2c82940f4e9b57baf8f20f9ab592f8d8ffb5649b"
  },
  "kernelspec": {
   "display_name": "Python 3.10.2 ('venv-lunchtag': venv)",
   "language": "python",
   "name": "python3"
  },
  "language_info": {
   "codemirror_mode": {
    "name": "ipython",
    "version": 3
   },
   "file_extension": ".py",
   "mimetype": "text/x-python",
   "name": "python",
   "nbconvert_exporter": "python",
   "pygments_lexer": "ipython3",
   "version": "3.10.2"
  },
  "orig_nbformat": 4
 },
 "nbformat": 4,
 "nbformat_minor": 2
}
